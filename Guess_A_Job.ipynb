{
 "cells": [
  {
   "cell_type": "code",
   "execution_count": 1,
   "metadata": {
    "collapsed": true
   },
   "outputs": [],
   "source": [
    "import pandas as pd\n",
    "from __future__ import division\n",
    "import matplotlib.pyplot as plt\n",
    "from fuzzywuzzy import fuzz\n",
    "from fuzzywuzzy import process\n",
    "from copy import deepcopy\n",
    "import pickle\n",
    "import sys"
   ]
  },
  {
   "cell_type": "code",
   "execution_count": 2,
   "metadata": {
    "collapsed": true
   },
   "outputs": [],
   "source": [
    "with open(\"resultdf.pkl\", 'r') as picklefile: \n",
    "    resultdf = pickle.load(picklefile)"
   ]
  },
  {
   "cell_type": "code",
   "execution_count": 54,
   "metadata": {
    "collapsed": false
   },
   "outputs": [
    {
     "name": "stdout",
     "output_type": "stream",
     "text": [
      "Job not found.  Get a new job!\n"
     ]
    }
   ],
   "source": [
    "GuessAJob = 'clown'\n",
    "\n",
    "FoundAJob = False\n",
    "k = 0\n",
    "while k < len(resultdf.columns):\n",
    "    if type(resultdf.columns[k]) == str:\n",
    "        if fuzz.ratio(GuessAJob, resultdf.columns[k]) > 85:\n",
    "            FoundAJob = True\n",
    "            if float(resultdf[resultdf.columns[k]][0]) > 1.0:\n",
    "                '% Grade A loans for ' + GuessAJob + ': Error'\n",
    "            else:\n",
    "                print '% Grade A loans for ' + GuessAJob + ': ' \\\n",
    "                    + str(float(resultdf[resultdf.columns[k]][0]) * 100) + '%'\n",
    "            print 'Average APR for Grade A loans for ' + GuessAJob + ': ' + \\\n",
    "                str(resultdf[resultdf.columns[k]][1])\n",
    "            print 'Average APR for all loans for ' + GuessAJob + ': ' + \\\n",
    "                str(resultdf[resultdf.columns[k]][2])\n",
    "    k += 1\n",
    "if FoundAJob == False:\n",
    "    print 'Job not found.  Get a new job!'"
   ]
  },
  {
   "cell_type": "code",
   "execution_count": null,
   "metadata": {
    "collapsed": true
   },
   "outputs": [],
   "source": []
  }
 ],
 "metadata": {
  "kernelspec": {
   "display_name": "Python 2",
   "language": "python",
   "name": "python2"
  },
  "language_info": {
   "codemirror_mode": {
    "name": "ipython",
    "version": 2
   },
   "file_extension": ".py",
   "mimetype": "text/x-python",
   "name": "python",
   "nbconvert_exporter": "python",
   "pygments_lexer": "ipython2",
   "version": "2.7.10"
  }
 },
 "nbformat": 4,
 "nbformat_minor": 0
}
