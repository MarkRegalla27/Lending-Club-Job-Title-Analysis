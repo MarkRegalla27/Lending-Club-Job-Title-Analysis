{
 "cells": [
  {
   "cell_type": "code",
   "execution_count": 1,
   "metadata": {
    "collapsed": true
   },
   "outputs": [],
   "source": [
    "import pandas as pd\n",
    "from __future__ import division\n",
    "import matplotlib.pyplot as plt\n",
    "from fuzzywuzzy import fuzz\n",
    "from fuzzywuzzy import process\n",
    "from copy import deepcopy\n",
    "import pickle\n",
    "import sys"
   ]
  },
  {
   "cell_type": "code",
   "execution_count": 9,
   "metadata": {
    "collapsed": true
   },
   "outputs": [],
   "source": [
    "with open(\"resultdf.pkl\", 'r') as picklefile: \n",
    "    resultdf = pickle.load(picklefile)"
   ]
  },
  {
   "cell_type": "code",
   "execution_count": 49,
   "metadata": {
    "collapsed": false
   },
   "outputs": [
    {
     "name": "stdout",
     "output_type": "stream",
     "text": [
      "% Grade A loans for operator: 11.6580310881\n",
      "Average APR for Grade A loans operator: 7.02977777778\n",
      "Average APR for all loans for operator: 14.5557772021\n"
     ]
    }
   ],
   "source": [
    "GuessAJob = 'operator'\n",
    "k = 0\n",
    "while k < len(resultdf.columns):\n",
    "    if type(resultdf.columns[k]) == str:\n",
    "        if fuzz.ratio(GuessAJob, resultdf.columns[k]) > 85:\n",
    "            print '% Grade A loans for ' + GuessAJob + ': ' \\\n",
    "                + str(float(resultdf[GuessAJob][0]) * 100)\n",
    "            print 'Average APR for Grade A loans ' + GuessAJob + ': ' + \\\n",
    "                str(resultdf[GuessAJob][1])\n",
    "            print 'Average APR for all loans for ' + GuessAJob + ': ' + \\\n",
    "                str(resultdf[GuessAJob][2])\n",
    "    k += 1"
   ]
  },
  {
   "cell_type": "code",
   "execution_count": null,
   "metadata": {
    "collapsed": true
   },
   "outputs": [],
   "source": []
  }
 ],
 "metadata": {
  "kernelspec": {
   "display_name": "Python 2",
   "language": "python",
   "name": "python2"
  },
  "language_info": {
   "codemirror_mode": {
    "name": "ipython",
    "version": 2
   },
   "file_extension": ".py",
   "mimetype": "text/x-python",
   "name": "python",
   "nbconvert_exporter": "python",
   "pygments_lexer": "ipython2",
   "version": "2.7.10"
  }
 },
 "nbformat": 4,
 "nbformat_minor": 0
}
