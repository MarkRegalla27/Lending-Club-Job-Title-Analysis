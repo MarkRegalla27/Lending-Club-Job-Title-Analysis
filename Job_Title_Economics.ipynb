{
 "cells": [
  {
   "cell_type": "code",
   "execution_count": 1,
   "metadata": {
    "collapsed": true
   },
   "outputs": [],
   "source": [
    "import pandas as pd\n",
    "from __future__ import division\n",
    "import matplotlib.pyplot as plt"
   ]
  },
  {
   "cell_type": "code",
   "execution_count": 2,
   "metadata": {
    "collapsed": false
   },
   "outputs": [
    {
     "name": "stderr",
     "output_type": "stream",
     "text": [
      "/Users/markregalla/anaconda/lib/python2.7/site-packages/pandas/io/parsers.py:1170: DtypeWarning: Columns (0,19) have mixed types. Specify dtype option on import or set low_memory=False.\n",
      "  data = self._reader.read(nrows)\n"
     ]
    }
   ],
   "source": [
    "df = pd.read_csv('/users/markregalla/desktop/metis/Project3/data/LoanStats3d.csv', header=1)\n",
    "#df = df.dropna()"
   ]
  },
  {
   "cell_type": "code",
   "execution_count": 3,
   "metadata": {
    "collapsed": true
   },
   "outputs": [],
   "source": [
    "#df = df.drop(180103, axis=0)\n",
    "pd.set_option('display.max_rows', 100)\n",
    "pd.set_option('display.max_columns', 500)\n",
    "pd.set_option('display.width', 1000)\n",
    "#pd.options.display.mpl_style = 'default'"
   ]
  },
  {
   "cell_type": "code",
   "execution_count": 3,
   "metadata": {
    "collapsed": false
   },
   "outputs": [],
   "source": [
    "df['emp_title'] = df['emp_title'].str.lower()\n",
    "df['emp_title'] = df['emp_title'].str.strip()"
   ]
  },
  {
   "cell_type": "code",
   "execution_count": 4,
   "metadata": {
    "collapsed": false
   },
   "outputs": [
    {
     "data": {
      "text/plain": [
       "49524"
      ]
     },
     "execution_count": 4,
     "metadata": {},
     "output_type": "execute_result"
    }
   ],
   "source": [
    "len(df['emp_title'].unique())"
   ]
  },
  {
   "cell_type": "code",
   "execution_count": 21,
   "metadata": {
    "collapsed": false
   },
   "outputs": [],
   "source": [
    "from fuzzywuzzy import fuzz\n",
    "from fuzzywuzzy import process"
   ]
  },
  {
   "cell_type": "code",
   "execution_count": 6,
   "metadata": {
    "collapsed": false
   },
   "outputs": [
    {
     "data": {
      "text/plain": [
       "170661"
      ]
     },
     "execution_count": 6,
     "metadata": {},
     "output_type": "execute_result"
    }
   ],
   "source": [
    "emp_title_list = df['emp_title']\n",
    "emp_title_list = emp_title_list.dropna()\n",
    "emp_title_list = emp_title_list.tolist()\n",
    "len(emp_title_list)"
   ]
  },
  {
   "cell_type": "code",
   "execution_count": 80,
   "metadata": {
    "collapsed": false,
    "scrolled": true
   },
   "outputs": [
    {
     "data": {
      "text/plain": [
       "['instructional designer',\n",
       " 'customer service representative',\n",
       " 'wire tech',\n",
       " 'csr',\n",
       " 'branch manager',\n",
       " 'crm business analyst',\n",
       " 'sales',\n",
       " 'billing representative',\n",
       " 'project manager',\n",
       " 'substance abuse counselor',\n",
       " 'customer service',\n",
       " 'associate manager public relations',\n",
       " 'tax manager',\n",
       " 'wireless network support',\n",
       " 'lead teacher',\n",
       " 'deputy',\n",
       " 'csm   teller',\n",
       " 'correctional security officer iv',\n",
       " 'custodial',\n",
       " 'teacher',\n",
       " 'insurance coordinator',\n",
       " 'sr. sales associate',\n",
       " 'associate director of nursing',\n",
       " 'paraeducator',\n",
       " 'clinical monitoring project lead',\n",
       " 'accounting tech ii',\n",
       " 'vice president',\n",
       " 'teacher',\n",
       " 'postmaster',\n",
       " 'compliance consultant',\n",
       " 'np',\n",
       " 'web content',\n",
       " 'personal banker',\n",
       " 'payroll clerk',\n",
       " 'anchem engineering technician',\n",
       " 'field specialist',\n",
       " 'manufacturing engineer',\n",
       " 'acct aditors',\n",
       " 'dental hygienist',\n",
       " 'operations manager']"
      ]
     },
     "execution_count": 80,
     "metadata": {},
     "output_type": "execute_result"
    }
   ],
   "source": [
    "reduced_test_list = emp_title_list[:40]\n",
    "reduced_test_list"
   ]
  },
  {
   "cell_type": "code",
   "execution_count": 84,
   "metadata": {
    "collapsed": false
   },
   "outputs": [
    {
     "name": "stdout",
     "output_type": "stream",
     "text": [
      "Length of untouched: 39\n",
      "Length of untouched: 38\n",
      "Length of untouched: 37\n",
      "Length of untouched: 36\n",
      "Length of untouched: 35\n",
      "Length of untouched: 34\n",
      "Length of untouched: 33\n",
      "Length of untouched: 32\n",
      "Length of untouched: 31\n",
      "Length of untouched: 30\n",
      "Length of untouched: 29\n",
      "Length of untouched: 28\n",
      "Length of untouched: 27\n",
      "Length of untouched: 26\n",
      "Length of untouched: 25\n",
      "Length of untouched: 24\n",
      "Length of untouched: 23\n",
      "Length of untouched: 22\n",
      "Length of untouched: 21\n",
      "Length of untouched: 19\n",
      "Length of untouched: 18\n",
      "Length of untouched: 17\n",
      "Length of untouched: 16\n",
      "Length of untouched: 15\n",
      "Length of untouched: 14\n",
      "Length of untouched: 13\n",
      "Length of untouched: 12\n",
      "Length of untouched: 11\n",
      "Length of untouched: 10\n",
      "Length of untouched: 9\n",
      "Length of untouched: 8\n",
      "Length of untouched: 7\n",
      "Length of untouched: 6\n",
      "Length of untouched: 5\n",
      "Length of untouched: 4\n",
      "Length of untouched: 3\n",
      "Length of untouched: 2\n",
      "Length of untouched: 1\n",
      "Done.\n",
      "CPU times: user 92.1 ms, sys: 12.6 ms, total: 105 ms\n",
      "Wall time: 96.6 ms\n"
     ]
    }
   ],
   "source": [
    "%%time\n",
    "#innerlist = []\n",
    "#untouched = emp_title_list\n",
    "\n",
    "def reducedown(title_list, bigDict = {}):\n",
    "    i = 1\n",
    "    untouched = []\n",
    "    matchedindeces = []\n",
    "    while i < len(title_list):\n",
    "        if fuzz.ratio(title_list[0], title_list[i]) >= 85:\n",
    "            matchedindeces.append(i)\n",
    "            #print title_list[i]\n",
    "        else:\n",
    "            untouched.append(title_list[i])\n",
    "        i += 1\n",
    "    \n",
    "    bigDict[title_list[0]] = matchedindeces\n",
    "    print 'Length of untouched: ' + str(len(untouched))\n",
    "    if len(untouched) > 1:\n",
    "        reducedown(untouched)\n",
    "    return bigDict\n",
    "\n",
    "#theDict = reducedown(emp_title_list)\n",
    "thetestDict = reducedown(reduced_test_list)\n",
    "print 'Done.'"
   ]
  },
  {
   "cell_type": "code",
   "execution_count": 85,
   "metadata": {
    "collapsed": false
   },
   "outputs": [
    {
     "data": {
      "text/plain": [
       "{'accounting tech ii': [],\n",
       " 'acct aditors': [],\n",
       " 'anchem engineering technician': [],\n",
       " 'associate director of nursing': [],\n",
       " 'associate manager public relations': [],\n",
       " 'billing representative': [],\n",
       " 'branch manager': [],\n",
       " 'clinical monitoring project lead': [],\n",
       " 'compliance consultant': [],\n",
       " 'correctional security officer iv': [],\n",
       " 'crm business analyst': [],\n",
       " 'csm   teller': [],\n",
       " 'csr': [],\n",
       " 'custodial': [],\n",
       " 'customer service': [],\n",
       " 'customer service representative': [],\n",
       " 'dental hygienist': [],\n",
       " 'deputy': [],\n",
       " 'field specialist': [],\n",
       " 'instructional designer': [],\n",
       " 'insurance coordinator': [],\n",
       " 'lead teacher': [],\n",
       " 'manufacturing engineer': [],\n",
       " 'np': [],\n",
       " 'paraeducator': [],\n",
       " 'payroll clerk': [],\n",
       " 'personal banker': [],\n",
       " 'postmaster': [],\n",
       " 'project manager': [],\n",
       " 'sales': [],\n",
       " 'sr. sales associate': [],\n",
       " 'substance abuse counselor': [],\n",
       " 'tax manager': [],\n",
       " 'teacher': [8],\n",
       " 'vice president': [],\n",
       " 'web content': [],\n",
       " 'wire tech': [],\n",
       " 'wireless network support': []}"
      ]
     },
     "execution_count": 85,
     "metadata": {},
     "output_type": "execute_result"
    }
   ],
   "source": [
    "thetestDict"
   ]
  },
  {
   "cell_type": "code",
   "execution_count": 8,
   "metadata": {
    "collapsed": true
   },
   "outputs": [
    {
     "data": {
      "text/plain": [
       "0.27497445920135033"
      ]
     },
     "execution_count": 8,
     "metadata": {},
     "output_type": "execute_result"
    }
   ],
   "source": [
    "len(df['emp_title'].unique()) / len(df)"
   ]
  },
  {
   "cell_type": "code",
   "execution_count": 73,
   "metadata": {
    "collapsed": false,
    "scrolled": true
   },
   "outputs": [
    {
     "name": "stdout",
     "output_type": "stream",
     "text": [
      "14\n"
     ]
    },
    {
     "data": {
      "text/plain": [
       "9          substance abuse counselor\n",
       "8416       substance abuse counselor\n",
       "28535       child abuse investigator\n",
       "39218     substance abuse caseworker\n",
       "75810     substance abuse prevention\n",
       "81723      substance abuse counselor\n",
       "87654      substance abuse counselor\n",
       "92824      substance abuse counselor\n",
       "101746     substance abuse counselor\n",
       "102967      abuse/neglect specialist\n",
       "131809     substance abuse counselor\n",
       "167716      substance abuse couselor\n",
       "171731     substance abuse counselor\n",
       "177316     substance abuse therapist\n",
       "Name: emp_title, dtype: object"
      ]
     },
     "execution_count": 73,
     "metadata": {},
     "output_type": "execute_result"
    }
   ],
   "source": [
    "df_emp_title = df['emp_title']\n",
    "df_emp_title = df_emp_title.dropna()    #dropping na to the entire dataframe was dropping most data\n",
    "print len(df_emp_title[df_emp_title.str.contains('abuse')])\n",
    "df_emp_title[df_emp_title.str.contains('abuse')]\n",
    "#print len(df['emp_title'].str.contains('manager')) result = 180104 (not sure why)"
   ]
  },
  {
   "cell_type": "code",
   "execution_count": 10,
   "metadata": {
    "collapsed": false,
    "scrolled": false
   },
   "outputs": [
    {
     "data": {
      "text/html": [
       "<div>\n",
       "<table border=\"1\" class=\"dataframe\">\n",
       "  <thead>\n",
       "    <tr style=\"text-align: right;\">\n",
       "      <th></th>\n",
       "      <th>member_id</th>\n",
       "      <th>loan_amnt</th>\n",
       "      <th>funded_amnt</th>\n",
       "      <th>funded_amnt_inv</th>\n",
       "      <th>installment</th>\n",
       "      <th>annual_inc</th>\n",
       "      <th>dti</th>\n",
       "      <th>delinq_2yrs</th>\n",
       "      <th>inq_last_6mths</th>\n",
       "      <th>mths_since_last_delinq</th>\n",
       "      <th>mths_since_last_record</th>\n",
       "      <th>open_acc</th>\n",
       "      <th>pub_rec</th>\n",
       "      <th>revol_bal</th>\n",
       "      <th>total_acc</th>\n",
       "      <th>out_prncp</th>\n",
       "      <th>out_prncp_inv</th>\n",
       "      <th>total_pymnt</th>\n",
       "      <th>total_pymnt_inv</th>\n",
       "      <th>total_rec_prncp</th>\n",
       "      <th>total_rec_int</th>\n",
       "      <th>total_rec_late_fee</th>\n",
       "      <th>recoveries</th>\n",
       "      <th>collection_recovery_fee</th>\n",
       "      <th>last_pymnt_amnt</th>\n",
       "      <th>collections_12_mths_ex_med</th>\n",
       "      <th>mths_since_last_major_derog</th>\n",
       "      <th>policy_code</th>\n",
       "    </tr>\n",
       "  </thead>\n",
       "  <tbody>\n",
       "    <tr>\n",
       "      <th>count</th>\n",
       "      <td>31826.000000</td>\n",
       "      <td>31826.000000</td>\n",
       "      <td>31826.000000</td>\n",
       "      <td>31826.00000</td>\n",
       "      <td>31826.000000</td>\n",
       "      <td>31826.000000</td>\n",
       "      <td>31826.000000</td>\n",
       "      <td>31826.000000</td>\n",
       "      <td>31826.000000</td>\n",
       "      <td>14386.000000</td>\n",
       "      <td>3910.000000</td>\n",
       "      <td>31826.000000</td>\n",
       "      <td>31826.000000</td>\n",
       "      <td>31826.000000</td>\n",
       "      <td>31826.000000</td>\n",
       "      <td>31826.000000</td>\n",
       "      <td>31826.000000</td>\n",
       "      <td>31826.000000</td>\n",
       "      <td>31826.000000</td>\n",
       "      <td>31826.000000</td>\n",
       "      <td>31826.000000</td>\n",
       "      <td>31826.000000</td>\n",
       "      <td>31826</td>\n",
       "      <td>31826</td>\n",
       "      <td>31826.000000</td>\n",
       "      <td>31826.000000</td>\n",
       "      <td>6835.000000</td>\n",
       "      <td>31826</td>\n",
       "    </tr>\n",
       "    <tr>\n",
       "      <th>mean</th>\n",
       "      <td>47565254.487526</td>\n",
       "      <td>14523.588418</td>\n",
       "      <td>14523.588418</td>\n",
       "      <td>14520.21539</td>\n",
       "      <td>440.737914</td>\n",
       "      <td>89211.482914</td>\n",
       "      <td>16.010591</td>\n",
       "      <td>0.250016</td>\n",
       "      <td>0.306479</td>\n",
       "      <td>34.492076</td>\n",
       "      <td>66.836061</td>\n",
       "      <td>12.218501</td>\n",
       "      <td>0.163703</td>\n",
       "      <td>20090.502388</td>\n",
       "      <td>26.939389</td>\n",
       "      <td>12093.448115</td>\n",
       "      <td>12090.672566</td>\n",
       "      <td>2842.199323</td>\n",
       "      <td>2841.500845</td>\n",
       "      <td>2424.624555</td>\n",
       "      <td>417.548639</td>\n",
       "      <td>0.026130</td>\n",
       "      <td>0</td>\n",
       "      <td>0</td>\n",
       "      <td>883.795537</td>\n",
       "      <td>0.012003</td>\n",
       "      <td>43.702414</td>\n",
       "      <td>1</td>\n",
       "    </tr>\n",
       "    <tr>\n",
       "      <th>std</th>\n",
       "      <td>5473584.328923</td>\n",
       "      <td>7530.346367</td>\n",
       "      <td>7530.346367</td>\n",
       "      <td>7528.76748</td>\n",
       "      <td>229.626062</td>\n",
       "      <td>70880.826260</td>\n",
       "      <td>7.378954</td>\n",
       "      <td>0.732022</td>\n",
       "      <td>0.584444</td>\n",
       "      <td>21.320648</td>\n",
       "      <td>28.178196</td>\n",
       "      <td>5.644222</td>\n",
       "      <td>0.560639</td>\n",
       "      <td>27366.409938</td>\n",
       "      <td>11.851458</td>\n",
       "      <td>6916.145746</td>\n",
       "      <td>6914.780457</td>\n",
       "      <td>3090.416855</td>\n",
       "      <td>3089.668518</td>\n",
       "      <td>2974.645850</td>\n",
       "      <td>277.675174</td>\n",
       "      <td>0.860626</td>\n",
       "      <td>0</td>\n",
       "      <td>0</td>\n",
       "      <td>2599.657453</td>\n",
       "      <td>0.115617</td>\n",
       "      <td>20.611193</td>\n",
       "      <td>0</td>\n",
       "    </tr>\n",
       "    <tr>\n",
       "      <th>min</th>\n",
       "      <td>232049.000000</td>\n",
       "      <td>1000.000000</td>\n",
       "      <td>1000.000000</td>\n",
       "      <td>1000.00000</td>\n",
       "      <td>30.540000</td>\n",
       "      <td>7000.000000</td>\n",
       "      <td>0.000000</td>\n",
       "      <td>0.000000</td>\n",
       "      <td>0.000000</td>\n",
       "      <td>0.000000</td>\n",
       "      <td>1.000000</td>\n",
       "      <td>1.000000</td>\n",
       "      <td>0.000000</td>\n",
       "      <td>0.000000</td>\n",
       "      <td>4.000000</td>\n",
       "      <td>0.000000</td>\n",
       "      <td>0.000000</td>\n",
       "      <td>0.000000</td>\n",
       "      <td>0.000000</td>\n",
       "      <td>0.000000</td>\n",
       "      <td>0.000000</td>\n",
       "      <td>0.000000</td>\n",
       "      <td>0</td>\n",
       "      <td>0</td>\n",
       "      <td>0.000000</td>\n",
       "      <td>0.000000</td>\n",
       "      <td>0.000000</td>\n",
       "      <td>1</td>\n",
       "    </tr>\n",
       "    <tr>\n",
       "      <th>25%</th>\n",
       "      <td>43446284.250000</td>\n",
       "      <td>8500.000000</td>\n",
       "      <td>8500.000000</td>\n",
       "      <td>8500.00000</td>\n",
       "      <td>260.100000</td>\n",
       "      <td>55000.000000</td>\n",
       "      <td>10.460000</td>\n",
       "      <td>0.000000</td>\n",
       "      <td>0.000000</td>\n",
       "      <td>17.000000</td>\n",
       "      <td>49.000000</td>\n",
       "      <td>8.000000</td>\n",
       "      <td>0.000000</td>\n",
       "      <td>7576.750000</td>\n",
       "      <td>18.000000</td>\n",
       "      <td>6982.150000</td>\n",
       "      <td>6982.150000</td>\n",
       "      <td>1242.670000</td>\n",
       "      <td>1242.670000</td>\n",
       "      <td>1016.410000</td>\n",
       "      <td>210.690000</td>\n",
       "      <td>0.000000</td>\n",
       "      <td>0</td>\n",
       "      <td>0</td>\n",
       "      <td>274.780000</td>\n",
       "      <td>0.000000</td>\n",
       "      <td>28.000000</td>\n",
       "      <td>1</td>\n",
       "    </tr>\n",
       "    <tr>\n",
       "      <th>50%</th>\n",
       "      <td>47347008.500000</td>\n",
       "      <td>12800.000000</td>\n",
       "      <td>12800.000000</td>\n",
       "      <td>12800.00000</td>\n",
       "      <td>377.090000</td>\n",
       "      <td>75000.000000</td>\n",
       "      <td>15.510000</td>\n",
       "      <td>0.000000</td>\n",
       "      <td>0.000000</td>\n",
       "      <td>32.000000</td>\n",
       "      <td>65.000000</td>\n",
       "      <td>11.000000</td>\n",
       "      <td>0.000000</td>\n",
       "      <td>13556.500000</td>\n",
       "      <td>25.000000</td>\n",
       "      <td>10785.470000</td>\n",
       "      <td>10781.960000</td>\n",
       "      <td>2070.930000</td>\n",
       "      <td>2070.930000</td>\n",
       "      <td>1690.070000</td>\n",
       "      <td>348.980000</td>\n",
       "      <td>0.000000</td>\n",
       "      <td>0</td>\n",
       "      <td>0</td>\n",
       "      <td>404.330000</td>\n",
       "      <td>0.000000</td>\n",
       "      <td>44.000000</td>\n",
       "      <td>1</td>\n",
       "    </tr>\n",
       "    <tr>\n",
       "      <th>75%</th>\n",
       "      <td>51856407.250000</td>\n",
       "      <td>20000.000000</td>\n",
       "      <td>20000.000000</td>\n",
       "      <td>20000.00000</td>\n",
       "      <td>607.810000</td>\n",
       "      <td>105000.000000</td>\n",
       "      <td>21.120000</td>\n",
       "      <td>0.000000</td>\n",
       "      <td>1.000000</td>\n",
       "      <td>50.000000</td>\n",
       "      <td>83.000000</td>\n",
       "      <td>15.000000</td>\n",
       "      <td>0.000000</td>\n",
       "      <td>23736.750000</td>\n",
       "      <td>34.000000</td>\n",
       "      <td>16755.340000</td>\n",
       "      <td>16755.340000</td>\n",
       "      <td>3330.112500</td>\n",
       "      <td>3329.890000</td>\n",
       "      <td>2728.540000</td>\n",
       "      <td>552.225000</td>\n",
       "      <td>0.000000</td>\n",
       "      <td>0</td>\n",
       "      <td>0</td>\n",
       "      <td>619.930000</td>\n",
       "      <td>0.000000</td>\n",
       "      <td>61.000000</td>\n",
       "      <td>1</td>\n",
       "    </tr>\n",
       "    <tr>\n",
       "      <th>max</th>\n",
       "      <td>57164962.000000</td>\n",
       "      <td>35000.000000</td>\n",
       "      <td>35000.000000</td>\n",
       "      <td>35000.00000</td>\n",
       "      <td>1099.850000</td>\n",
       "      <td>7000000.000000</td>\n",
       "      <td>39.990000</td>\n",
       "      <td>14.000000</td>\n",
       "      <td>5.000000</td>\n",
       "      <td>117.000000</td>\n",
       "      <td>120.000000</td>\n",
       "      <td>56.000000</td>\n",
       "      <td>15.000000</td>\n",
       "      <td>1043860.000000</td>\n",
       "      <td>96.000000</td>\n",
       "      <td>33363.530000</td>\n",
       "      <td>33363.530000</td>\n",
       "      <td>36666.420000</td>\n",
       "      <td>36666.420000</td>\n",
       "      <td>35000.000000</td>\n",
       "      <td>1832.830000</td>\n",
       "      <td>61.660000</td>\n",
       "      <td>0</td>\n",
       "      <td>0</td>\n",
       "      <td>35387.240000</td>\n",
       "      <td>3.000000</td>\n",
       "      <td>145.000000</td>\n",
       "      <td>1</td>\n",
       "    </tr>\n",
       "  </tbody>\n",
       "</table>\n",
       "</div>"
      ],
      "text/plain": [
       "             member_id     loan_amnt   funded_amnt  funded_amnt_inv   installment      annual_inc           dti   delinq_2yrs  inq_last_6mths  mths_since_last_delinq  mths_since_last_record      open_acc       pub_rec       revol_bal     total_acc     out_prncp  out_prncp_inv   total_pymnt  total_pymnt_inv  total_rec_prncp  total_rec_int  total_rec_late_fee  recoveries  collection_recovery_fee  last_pymnt_amnt  collections_12_mths_ex_med  mths_since_last_major_derog  policy_code\n",
       "count     31826.000000  31826.000000  31826.000000      31826.00000  31826.000000    31826.000000  31826.000000  31826.000000    31826.000000            14386.000000             3910.000000  31826.000000  31826.000000    31826.000000  31826.000000  31826.000000   31826.000000  31826.000000     31826.000000     31826.000000   31826.000000        31826.000000       31826                    31826     31826.000000                31826.000000                  6835.000000        31826\n",
       "mean   47565254.487526  14523.588418  14523.588418      14520.21539    440.737914    89211.482914     16.010591      0.250016        0.306479               34.492076               66.836061     12.218501      0.163703    20090.502388     26.939389  12093.448115   12090.672566   2842.199323      2841.500845      2424.624555     417.548639            0.026130           0                        0       883.795537                    0.012003                    43.702414            1\n",
       "std     5473584.328923   7530.346367   7530.346367       7528.76748    229.626062    70880.826260      7.378954      0.732022        0.584444               21.320648               28.178196      5.644222      0.560639    27366.409938     11.851458   6916.145746    6914.780457   3090.416855      3089.668518      2974.645850     277.675174            0.860626           0                        0      2599.657453                    0.115617                    20.611193            0\n",
       "min      232049.000000   1000.000000   1000.000000       1000.00000     30.540000     7000.000000      0.000000      0.000000        0.000000                0.000000                1.000000      1.000000      0.000000        0.000000      4.000000      0.000000       0.000000      0.000000         0.000000         0.000000       0.000000            0.000000           0                        0         0.000000                    0.000000                     0.000000            1\n",
       "25%    43446284.250000   8500.000000   8500.000000       8500.00000    260.100000    55000.000000     10.460000      0.000000        0.000000               17.000000               49.000000      8.000000      0.000000     7576.750000     18.000000   6982.150000    6982.150000   1242.670000      1242.670000      1016.410000     210.690000            0.000000           0                        0       274.780000                    0.000000                    28.000000            1\n",
       "50%    47347008.500000  12800.000000  12800.000000      12800.00000    377.090000    75000.000000     15.510000      0.000000        0.000000               32.000000               65.000000     11.000000      0.000000    13556.500000     25.000000  10785.470000   10781.960000   2070.930000      2070.930000      1690.070000     348.980000            0.000000           0                        0       404.330000                    0.000000                    44.000000            1\n",
       "75%    51856407.250000  20000.000000  20000.000000      20000.00000    607.810000   105000.000000     21.120000      0.000000        1.000000               50.000000               83.000000     15.000000      0.000000    23736.750000     34.000000  16755.340000   16755.340000   3330.112500      3329.890000      2728.540000     552.225000            0.000000           0                        0       619.930000                    0.000000                    61.000000            1\n",
       "max    57164962.000000  35000.000000  35000.000000      35000.00000   1099.850000  7000000.000000     39.990000     14.000000        5.000000              117.000000              120.000000     56.000000     15.000000  1043860.000000     96.000000  33363.530000   33363.530000  36666.420000     36666.420000     35000.000000    1832.830000           61.660000           0                        0     35387.240000                    3.000000                   145.000000            1"
      ]
     },
     "execution_count": 10,
     "metadata": {},
     "output_type": "execute_result"
    }
   ],
   "source": [
    "df[df['grade'] == 'A'].describe()"
   ]
  },
  {
   "cell_type": "code",
   "execution_count": 36,
   "metadata": {
    "collapsed": false
   },
   "outputs": [
    {
     "name": "stdout",
     "output_type": "stream",
     "text": [
      "179591\n"
     ]
    },
    {
     "data": {
      "text/plain": [
       "(array([  3.68600000e+03,   3.35360000e+04,   4.96370000e+04,\n",
       "          3.64810000e+04,   2.42580000e+04,   1.30270000e+04,\n",
       "          7.12000000e+03,   4.43000000e+03,   2.44800000e+03,\n",
       "          1.72000000e+03,   7.76000000e+02,   5.35000000e+02,\n",
       "          7.59000000e+02,   2.83000000e+02,   1.67000000e+02,\n",
       "          3.23000000e+02,   1.25000000e+02,   1.55000000e+02,\n",
       "          8.30000000e+01,   4.20000000e+01]),\n",
       " array([   3000.,   22750.,   42500.,   62250.,   82000.,  101750.,\n",
       "         121500.,  141250.,  161000.,  180750.,  200500.,  220250.,\n",
       "         240000.,  259750.,  279500.,  299250.,  319000.,  338750.,\n",
       "         358500.,  378250.,  398000.]),\n",
       " <a list of 20 Patch objects>)"
      ]
     },
     "execution_count": 36,
     "metadata": {},
     "output_type": "execute_result"
    },
    {
     "data": {
      "image/png": "[encoded data removed]",
      "text/plain": [
       "<matplotlib.figure.Figure at 0x10ab30390>"
      ]
     },
     "metadata": {},
     "output_type": "display_data"
    }
   ],
   "source": [
    "#%matplotlib inline\n",
    "incomes = df['annual_inc'].dropna()\n",
    "small_incs = [x for x in incomes if x < 400000]\n",
    "print len(small_incs)\n",
    "plt.hist(small_incs, bins=20)"
   ]
  },
  {
   "cell_type": "code",
   "execution_count": 37,
   "metadata": {
    "collapsed": false
   },
   "outputs": [
    {
     "data": {
      "image/png": "[encoded data removed]",
      "text/plain": [
       "<matplotlib.figure.Figure at 0x11809a510>"
      ]
     },
     "metadata": {},
     "output_type": "display_data"
    }
   ],
   "source": [
    "df_A_only = df[df['grade'] == 'A']\n",
    "A_incomes = df_A_only['annual_inc'].dropna()\n",
    "A_small_incs = [x for x in A_incomes if x < 200000]\n",
    "plt.hist(A_small_incs, bins=20, histtype='bar')\n",
    "plt.legend()"
   ]
  },
  {
   "cell_type": "code",
   "execution_count": 35,
   "metadata": {
    "collapsed": false
   },
   "outputs": [
    {
     "data": {
      "image/png": "[encoded data removed]",
      "text/plain": [
       "<matplotlib.figure.Figure at 0x10ad9e950>"
      ]
     },
     "metadata": {},
     "output_type": "display_data"
    }
   ],
   "source": [
    "df_A_only = df[df['grade'] == 'A']\n",
    "A_incomes = df_A_only['annual_inc'].dropna()\n",
    "A_small_incs = [x for x in A_incomes if x < 200000]\n",
    "plt.hist(A_small_incs, bins=20, histtype='bar')\n",
    "plt.legend()\n",
    "\n",
    "df_B_only = df[df['grade'] == 'B']\n",
    "B_incomes = df_B_only['annual_inc'].dropna()\n",
    "B_small_incs = [x for x in B_incomes if x < 200000]\n",
    "plt.hist(B_small_incs, bins=20, histtype='bar')\n",
    "plt.legend()\n",
    "\n",
    "df_C_only = df[df['grade'] == 'C']\n",
    "C_incomes = df_C_only['annual_inc'].dropna()\n",
    "C_small_incs = [x for x in C_incomes if x < 200000]\n",
    "plt.hist(C_small_incs, bins=20, histtype='bar')\n",
    "plt.legend()\n",
    "\n",
    "df_D_only = df[df['grade'] == 'D']\n",
    "D_incomes = df_D_only['annual_inc'].dropna()\n",
    "D_small_incs = [x for x in D_incomes if x < 200000]\n",
    "plt.hist(D_small_incs, bins=20, histtype='bar')\n",
    "plt.legend()\n",
    "\n",
    "df_E_only = df[df['grade'] == 'E']\n",
    "E_incomes = df_A_only['annual_inc'].dropna()\n",
    "E_small_incs = [x for x in E_incomes if x < 200000]\n",
    "plt.hist(E_small_incs, bins=20, histtype='bar')\n",
    "plt.legend()\n",
    "\n",
    "df_F_only = df[df['grade'] == 'F']\n",
    "F_incomes = df_F_only['annual_inc'].dropna()\n",
    "F_small_incs = [x for x in F_incomes if x < 200000]\n",
    "plt.hist(F_small_incs, bins=20, histtype='bar')\n",
    "plt.legend()\n",
    "\n",
    "df_G_only = df[df['grade'] == 'G']\n",
    "G_incomes = df_G_only['annual_inc'].dropna()\n",
    "G_small_incs = [x for x in G_incomes if x < 200000]\n",
    "plt.hist(G_small_incs, bins=20, histtype='bar')\n",
    "plt.legend()\n",
    "\n",
    "plt.show()"
   ]
  },
  {
   "cell_type": "code",
   "execution_count": 22,
   "metadata": {
    "collapsed": false,
    "scrolled": false
   },
   "outputs": [
    {
     "name": "stdout",
     "output_type": "stream",
     "text": [
      "[nan, 'A', 'B', 'C', 'D', 'E', 'F', 'G']\n"
     ]
    },
    {
     "data": {
      "text/plain": [
       "\"\\ndf_A_only = df[df['grade'] == 'A']\\nA_incomes = df_A_only['annual_inc'].dropna()\\nA_small_incs = [x for x in A_incomes if x < 200000]\\nplt.hist(small_incs, bins=20)\\n\""
      ]
     },
     "execution_count": 22,
     "metadata": {},
     "output_type": "execute_result"
    }
   ],
   "source": [
    "#%matplotlib inline\n",
    "#df_by_grade = []\n",
    "#k = 1\n",
    "\n",
    "print sorted(df['grade'].unique())\n",
    "#for i in (df['grade'].unique()):\n",
    "    #print i\n",
    "#    df_by_grade = df[df['grade'] == i] \n",
    "    #print k\n",
    "#    k += 1\n",
    "\n",
    "#print len(df_by_grade)\n",
    "'''\n",
    "df_A_only = df[df['grade'] == 'A']\n",
    "A_incomes = df_A_only['annual_inc'].dropna()\n",
    "A_small_incs = [x for x in A_incomes if x < 200000]\n",
    "plt.hist(small_incs, bins=20)\n",
    "'''\n",
    "\n",
    "#df_by_grade"
   ]
  },
  {
   "cell_type": "code",
   "execution_count": 53,
   "metadata": {
    "collapsed": false
   },
   "outputs": [],
   "source": [
    "interestRates = df['int_rate'].dropna()\n",
    "interestRates = interestRates.map(lambda x: float(x.strip('%')))"
   ]
  },
  {
   "cell_type": "code",
   "execution_count": 60,
   "metadata": {
    "collapsed": false
   },
   "outputs": [
    {
     "data": {
      "text/plain": [
       "(array([  1314.,      0.,   2725.,   1178.,   3849.,   2471.,   5218.,\n",
       "          1212.,   1597.,   1737.,   8106.,      0.,   8714.,      0.,\n",
       "          2020.,      0.,   6541.,   2109.,      0.,   7581.,      0.,\n",
       "          2271.,      0.,   8110.,      0.,   2560.,   7300.,      0.,\n",
       "          2485.,  11100.,      0.,   8225.,   2694.,   7928.,      0.,\n",
       "          2543.,   7990.,   2463.,      0.,   6267.,   2004.,      0.,\n",
       "             0.,   7475.,      0.,   1594.,      0.,   5580.,      0.,\n",
       "          5339.,      0.,   3814.,   4617.,      0.,   3238.,   1850.,\n",
       "             0.,   1959.,   1677.,   1709.,      0.,   1389.,      0.,\n",
       "             0.,   1383.,      0.,   1061.,      0.,      0.,   1057.,\n",
       "           881.,      0.,      0.,      0.,   1356.,      0.,      0.,\n",
       "             0.,    986.,      0.,      0.,    582.,      0.,    654.,\n",
       "             0.,    416.,    804.,    181.,      0.,      0.,     64.,\n",
       "             0.,     50.,      0.,      0.,     38.,      0.,     21.,\n",
       "             0.,     15.]),\n",
       " array([  5.32  ,   5.5567,   5.7934,   6.0301,   6.2668,   6.5035,\n",
       "          6.7402,   6.9769,   7.2136,   7.4503,   7.687 ,   7.9237,\n",
       "          8.1604,   8.3971,   8.6338,   8.8705,   9.1072,   9.3439,\n",
       "          9.5806,   9.8173,  10.054 ,  10.2907,  10.5274,  10.7641,\n",
       "         11.0008,  11.2375,  11.4742,  11.7109,  11.9476,  12.1843,\n",
       "         12.421 ,  12.6577,  12.8944,  13.1311,  13.3678,  13.6045,\n",
       "         13.8412,  14.0779,  14.3146,  14.5513,  14.788 ,  15.0247,\n",
       "         15.2614,  15.4981,  15.7348,  15.9715,  16.2082,  16.4449,\n",
       "         16.6816,  16.9183,  17.155 ,  17.3917,  17.6284,  17.8651,\n",
       "         18.1018,  18.3385,  18.5752,  18.8119,  19.0486,  19.2853,\n",
       "         19.522 ,  19.7587,  19.9954,  20.2321,  20.4688,  20.7055,\n",
       "         20.9422,  21.1789,  21.4156,  21.6523,  21.889 ,  22.1257,\n",
       "         22.3624,  22.5991,  22.8358,  23.0725,  23.3092,  23.5459,\n",
       "         23.7826,  24.0193,  24.256 ,  24.4927,  24.7294,  24.9661,\n",
       "         25.2028,  25.4395,  25.6762,  25.9129,  26.1496,  26.3863,\n",
       "         26.623 ,  26.8597,  27.0964,  27.3331,  27.5698,  27.8065,\n",
       "         28.0432,  28.2799,  28.5166,  28.7533,  28.99  ]),\n",
       " <a list of 100 Patch objects>)"
      ]
     },
     "execution_count": 60,
     "metadata": {},
     "output_type": "execute_result"
    },
    {
     "data": {
      "image/png": "[encoded data removed]",
      "text/plain": [
       "<matplotlib.figure.Figure at 0x11641d950>"
      ]
     },
     "metadata": {},
     "output_type": "display_data"
    }
   ],
   "source": [
    "plt.hist(interestRates, bins=100)"
   ]
  },
  {
   "cell_type": "code",
   "execution_count": 3,
   "metadata": {
    "collapsed": false,
    "scrolled": true
   },
   "outputs": [
    {
     "data": {
      "text/plain": [
       "DecisionTreeClassifier(class_weight=None, criterion='gini', max_depth=None,\n",
       "            max_features=None, max_leaf_nodes=None, min_samples_leaf=1,\n",
       "            min_samples_split=2, min_weight_fraction_leaf=0.0,\n",
       "            random_state=0, splitter='best')"
      ]
     },
     "execution_count": 3,
     "metadata": {},
     "output_type": "execute_result"
    }
   ],
   "source": [
    "from sklearn.datasets import load_iris\n",
    "from sklearn.cross_validation import cross_val_score\n",
    "from sklearn.tree import DecisionTreeClassifier\n",
    "clf = DecisionTreeClassifier(random_state=0)\n",
    "clf\n",
    "#iris = load_iris()\n",
    "#cross_val_score(clf, iris.data, iris.target, cv=10)"
   ]
  }
 ],
 "metadata": {
  "kernelspec": {
   "display_name": "Python 2",
   "language": "python",
   "name": "python2"
  },
  "language_info": {
   "codemirror_mode": {
    "name": "ipython",
    "version": 2
   },
   "file_extension": ".py",
   "mimetype": "text/x-python",
   "name": "python",
   "nbconvert_exporter": "python",
   "pygments_lexer": "ipython2",
   "version": "2.7.10"
  }
 },
 "nbformat": 4,
 "nbformat_minor": 0
}
